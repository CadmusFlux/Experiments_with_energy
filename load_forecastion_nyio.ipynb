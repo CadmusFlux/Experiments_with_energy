{
 "cells": [
  {
   "cell_type": "markdown",
   "metadata": {},
   "source": [
    "## Importing Dependencies"
   ]
  },
  {
   "cell_type": "code",
   "execution_count": 2,
   "metadata": {},
   "outputs": [],
   "source": [
    "import os\n",
    "import gridstatusio\n",
    "import pandas as pd\n",
    "import numpy as np\n",
    "from collections import Counter\n",
    "\n",
    "# Visualization\n",
    "\n",
    "import matplotlib.pyplot as plt\n",
    "import plotly.express as px"
   ]
  },
  {
   "cell_type": "code",
   "execution_count": 3,
   "metadata": {},
   "outputs": [],
   "source": [
    "client = gridstatusio.GridStatusClient(api_key = \"5e0391172219409e84c5b013357458aa\")"
   ]
  },
  {
   "cell_type": "markdown",
   "metadata": {},
   "source": [
    "## Loading data"
   ]
  },
  {
   "cell_type": "code",
   "execution_count": 6,
   "metadata": {},
   "outputs": [
    {
     "name": "stdout",
     "output_type": "stream",
     "text": [
      "Fetching Page 1...Done in 0.97 seconds. \n",
      "\n",
      "Total number of rows: 9085\n"
     ]
    }
   ],
   "source": [
    "ISO = \"nyiso\"\n",
    "START = \"Jul 1, 2023\"\n",
    "END = \"Aug 1, 2023\"\n",
    "\n",
    "df = client.get_dataset(\n",
    "    dataset=f\"{ISO}_load_raw\",\n",
    "    start=START,\n",
    "    end=END,\n",
    "    tz=\"GMT\",\n",
    ")"
   ]
  },
  {
   "cell_type": "markdown",
   "metadata": {},
   "source": [
    "## Descriptive analysis"
   ]
  },
  {
   "cell_type": "code",
   "execution_count": 23,
   "metadata": {},
   "outputs": [
    {
     "data": {
      "text/html": [
       "<div>\n",
       "<style scoped>\n",
       "    .dataframe tbody tr th:only-of-type {\n",
       "        vertical-align: middle;\n",
       "    }\n",
       "\n",
       "    .dataframe tbody tr th {\n",
       "        vertical-align: top;\n",
       "    }\n",
       "\n",
       "    .dataframe thead th {\n",
       "        text-align: right;\n",
       "    }\n",
       "</style>\n",
       "<table border=\"1\" class=\"dataframe\">\n",
       "  <thead>\n",
       "    <tr style=\"text-align: right;\">\n",
       "      <th></th>\n",
       "      <th>load</th>\n",
       "      <th>capitl</th>\n",
       "      <th>centrl</th>\n",
       "      <th>dunwod</th>\n",
       "      <th>genese</th>\n",
       "      <th>hud_vl</th>\n",
       "      <th>longil</th>\n",
       "      <th>mhk_vl</th>\n",
       "      <th>millwd</th>\n",
       "      <th>nyc</th>\n",
       "      <th>north</th>\n",
       "      <th>west</th>\n",
       "    </tr>\n",
       "    <tr>\n",
       "      <th>time_local</th>\n",
       "      <th></th>\n",
       "      <th></th>\n",
       "      <th></th>\n",
       "      <th></th>\n",
       "      <th></th>\n",
       "      <th></th>\n",
       "      <th></th>\n",
       "      <th></th>\n",
       "      <th></th>\n",
       "      <th></th>\n",
       "      <th></th>\n",
       "      <th></th>\n",
       "    </tr>\n",
       "  </thead>\n",
       "  <tbody>\n",
       "    <tr>\n",
       "      <th>2023-07-01 00:00:00+00:00</th>\n",
       "      <td>21719.9781</td>\n",
       "      <td>1684.8364</td>\n",
       "      <td>2142.5889</td>\n",
       "      <td>822.4161</td>\n",
       "      <td>1316.8333</td>\n",
       "      <td>1503.5210</td>\n",
       "      <td>3289.5884</td>\n",
       "      <td>1019.9258</td>\n",
       "      <td>417.6803</td>\n",
       "      <td>6792.3413</td>\n",
       "      <td>638.1467</td>\n",
       "      <td>2092.0999</td>\n",
       "    </tr>\n",
       "    <tr>\n",
       "      <th>2023-07-01 00:05:00+00:00</th>\n",
       "      <td>21625.9403</td>\n",
       "      <td>1696.0559</td>\n",
       "      <td>2135.0908</td>\n",
       "      <td>820.2476</td>\n",
       "      <td>1310.3699</td>\n",
       "      <td>1474.4135</td>\n",
       "      <td>3276.9062</td>\n",
       "      <td>1018.0216</td>\n",
       "      <td>412.6833</td>\n",
       "      <td>6750.4630</td>\n",
       "      <td>644.4270</td>\n",
       "      <td>2087.2615</td>\n",
       "    </tr>\n",
       "    <tr>\n",
       "      <th>2023-07-01 00:10:00+00:00</th>\n",
       "      <td>21596.3057</td>\n",
       "      <td>1671.9813</td>\n",
       "      <td>2148.7227</td>\n",
       "      <td>800.4192</td>\n",
       "      <td>1302.8622</td>\n",
       "      <td>1523.6902</td>\n",
       "      <td>3268.3884</td>\n",
       "      <td>1013.3822</td>\n",
       "      <td>402.7295</td>\n",
       "      <td>6739.1133</td>\n",
       "      <td>642.4797</td>\n",
       "      <td>2082.5370</td>\n",
       "    </tr>\n",
       "    <tr>\n",
       "      <th>2023-07-01 00:15:00+00:00</th>\n",
       "      <td>21469.0323</td>\n",
       "      <td>1676.3162</td>\n",
       "      <td>2099.5390</td>\n",
       "      <td>823.5942</td>\n",
       "      <td>1302.6343</td>\n",
       "      <td>1499.2502</td>\n",
       "      <td>3267.7260</td>\n",
       "      <td>1007.4002</td>\n",
       "      <td>392.3756</td>\n",
       "      <td>6684.3730</td>\n",
       "      <td>637.2401</td>\n",
       "      <td>2078.5835</td>\n",
       "    </tr>\n",
       "    <tr>\n",
       "      <th>2023-07-01 00:20:00+00:00</th>\n",
       "      <td>21412.0348</td>\n",
       "      <td>1678.6174</td>\n",
       "      <td>2122.7920</td>\n",
       "      <td>819.2205</td>\n",
       "      <td>1300.0626</td>\n",
       "      <td>1465.3452</td>\n",
       "      <td>3220.0469</td>\n",
       "      <td>1013.3581</td>\n",
       "      <td>415.1738</td>\n",
       "      <td>6673.0957</td>\n",
       "      <td>633.3353</td>\n",
       "      <td>2070.9873</td>\n",
       "    </tr>\n",
       "  </tbody>\n",
       "</table>\n",
       "</div>"
      ],
      "text/plain": [
       "                                 load     capitl     centrl    dunwod  \\\n",
       "time_local                                                              \n",
       "2023-07-01 00:00:00+00:00  21719.9781  1684.8364  2142.5889  822.4161   \n",
       "2023-07-01 00:05:00+00:00  21625.9403  1696.0559  2135.0908  820.2476   \n",
       "2023-07-01 00:10:00+00:00  21596.3057  1671.9813  2148.7227  800.4192   \n",
       "2023-07-01 00:15:00+00:00  21469.0323  1676.3162  2099.5390  823.5942   \n",
       "2023-07-01 00:20:00+00:00  21412.0348  1678.6174  2122.7920  819.2205   \n",
       "\n",
       "                              genese     hud_vl     longil     mhk_vl  \\\n",
       "time_local                                                              \n",
       "2023-07-01 00:00:00+00:00  1316.8333  1503.5210  3289.5884  1019.9258   \n",
       "2023-07-01 00:05:00+00:00  1310.3699  1474.4135  3276.9062  1018.0216   \n",
       "2023-07-01 00:10:00+00:00  1302.8622  1523.6902  3268.3884  1013.3822   \n",
       "2023-07-01 00:15:00+00:00  1302.6343  1499.2502  3267.7260  1007.4002   \n",
       "2023-07-01 00:20:00+00:00  1300.0626  1465.3452  3220.0469  1013.3581   \n",
       "\n",
       "                             millwd        nyc     north       west  \n",
       "time_local                                                           \n",
       "2023-07-01 00:00:00+00:00  417.6803  6792.3413  638.1467  2092.0999  \n",
       "2023-07-01 00:05:00+00:00  412.6833  6750.4630  644.4270  2087.2615  \n",
       "2023-07-01 00:10:00+00:00  402.7295  6739.1133  642.4797  2082.5370  \n",
       "2023-07-01 00:15:00+00:00  392.3756  6684.3730  637.2401  2078.5835  \n",
       "2023-07-01 00:20:00+00:00  415.1738  6673.0957  633.3353  2070.9873  "
      ]
     },
     "execution_count": 23,
     "metadata": {},
     "output_type": "execute_result"
    }
   ],
   "source": [
    "df.head()"
   ]
  },
  {
   "cell_type": "code",
   "execution_count": 22,
   "metadata": {},
   "outputs": [
    {
     "name": "stdout",
     "output_type": "stream",
     "text": [
      "<class 'pandas.core.frame.DataFrame'>\n",
      "DatetimeIndex: 9085 entries, 2023-07-01 00:00:00+00:00 to 2023-07-31 23:55:00+00:00\n",
      "Data columns (total 12 columns):\n",
      " #   Column  Non-Null Count  Dtype  \n",
      "---  ------  --------------  -----  \n",
      " 0   load    9085 non-null   float64\n",
      " 1   capitl  9085 non-null   float64\n",
      " 2   centrl  9085 non-null   float64\n",
      " 3   dunwod  9085 non-null   float64\n",
      " 4   genese  9085 non-null   float64\n",
      " 5   hud_vl  9085 non-null   float64\n",
      " 6   longil  9085 non-null   float64\n",
      " 7   mhk_vl  9085 non-null   float64\n",
      " 8   millwd  9085 non-null   float64\n",
      " 9   nyc     9085 non-null   float64\n",
      " 10  north   9085 non-null   float64\n",
      " 11  west    9085 non-null   float64\n",
      "dtypes: float64(12)\n",
      "memory usage: 922.7 KB\n"
     ]
    }
   ],
   "source": [
    "df.info()"
   ]
  },
  {
   "cell_type": "code",
   "execution_count": 27,
   "metadata": {},
   "outputs": [
    {
     "data": {
      "text/html": [
       "<div>\n",
       "<style scoped>\n",
       "    .dataframe tbody tr th:only-of-type {\n",
       "        vertical-align: middle;\n",
       "    }\n",
       "\n",
       "    .dataframe tbody tr th {\n",
       "        vertical-align: top;\n",
       "    }\n",
       "\n",
       "    .dataframe thead th {\n",
       "        text-align: right;\n",
       "    }\n",
       "</style>\n",
       "<table border=\"1\" class=\"dataframe\">\n",
       "  <thead>\n",
       "    <tr style=\"text-align: right;\">\n",
       "      <th></th>\n",
       "      <th>load</th>\n",
       "      <th>capitl</th>\n",
       "      <th>centrl</th>\n",
       "      <th>dunwod</th>\n",
       "      <th>genese</th>\n",
       "      <th>hud_vl</th>\n",
       "      <th>longil</th>\n",
       "      <th>mhk_vl</th>\n",
       "      <th>millwd</th>\n",
       "      <th>nyc</th>\n",
       "      <th>north</th>\n",
       "      <th>west</th>\n",
       "    </tr>\n",
       "  </thead>\n",
       "  <tbody>\n",
       "    <tr>\n",
       "      <th>count</th>\n",
       "      <td>9085.000000</td>\n",
       "      <td>9085.000000</td>\n",
       "      <td>9085.000000</td>\n",
       "      <td>9085.000000</td>\n",
       "      <td>9085.000000</td>\n",
       "      <td>9085.00000</td>\n",
       "      <td>9085.000000</td>\n",
       "      <td>9085.000000</td>\n",
       "      <td>9085.000000</td>\n",
       "      <td>9085.000000</td>\n",
       "      <td>9085.000000</td>\n",
       "      <td>9085.000000</td>\n",
       "    </tr>\n",
       "    <tr>\n",
       "      <th>mean</th>\n",
       "      <td>21021.604058</td>\n",
       "      <td>1502.773982</td>\n",
       "      <td>1856.490034</td>\n",
       "      <td>816.444930</td>\n",
       "      <td>1196.707896</td>\n",
       "      <td>1316.08897</td>\n",
       "      <td>3264.677704</td>\n",
       "      <td>877.551474</td>\n",
       "      <td>408.540012</td>\n",
       "      <td>7289.992620</td>\n",
       "      <td>631.935421</td>\n",
       "      <td>1860.401015</td>\n",
       "    </tr>\n",
       "    <tr>\n",
       "      <th>std</th>\n",
       "      <td>3312.899419</td>\n",
       "      <td>243.597631</td>\n",
       "      <td>263.337702</td>\n",
       "      <td>157.282512</td>\n",
       "      <td>201.902070</td>\n",
       "      <td>271.16640</td>\n",
       "      <td>715.950790</td>\n",
       "      <td>140.985300</td>\n",
       "      <td>94.458545</td>\n",
       "      <td>1104.287393</td>\n",
       "      <td>32.727648</td>\n",
       "      <td>264.249549</td>\n",
       "    </tr>\n",
       "    <tr>\n",
       "      <th>min</th>\n",
       "      <td>14577.855200</td>\n",
       "      <td>1025.539600</td>\n",
       "      <td>1315.306200</td>\n",
       "      <td>502.981300</td>\n",
       "      <td>788.413000</td>\n",
       "      <td>826.18390</td>\n",
       "      <td>1908.178100</td>\n",
       "      <td>579.597600</td>\n",
       "      <td>210.178800</td>\n",
       "      <td>4860.989300</td>\n",
       "      <td>379.225200</td>\n",
       "      <td>1214.185000</td>\n",
       "    </tr>\n",
       "    <tr>\n",
       "      <th>25%</th>\n",
       "      <td>18273.381800</td>\n",
       "      <td>1311.817600</td>\n",
       "      <td>1643.866500</td>\n",
       "      <td>688.481600</td>\n",
       "      <td>1035.427700</td>\n",
       "      <td>1091.53880</td>\n",
       "      <td>2649.437300</td>\n",
       "      <td>761.572800</td>\n",
       "      <td>330.311000</td>\n",
       "      <td>6398.255000</td>\n",
       "      <td>609.089900</td>\n",
       "      <td>1635.597400</td>\n",
       "    </tr>\n",
       "    <tr>\n",
       "      <th>50%</th>\n",
       "      <td>21031.995800</td>\n",
       "      <td>1479.941700</td>\n",
       "      <td>1844.262800</td>\n",
       "      <td>810.269100</td>\n",
       "      <td>1183.202000</td>\n",
       "      <td>1283.54300</td>\n",
       "      <td>3222.223100</td>\n",
       "      <td>865.667100</td>\n",
       "      <td>399.530800</td>\n",
       "      <td>7247.556600</td>\n",
       "      <td>632.415900</td>\n",
       "      <td>1857.479100</td>\n",
       "    </tr>\n",
       "    <tr>\n",
       "      <th>75%</th>\n",
       "      <td>23568.251000</td>\n",
       "      <td>1688.019500</td>\n",
       "      <td>2053.110400</td>\n",
       "      <td>929.398200</td>\n",
       "      <td>1330.184300</td>\n",
       "      <td>1514.56870</td>\n",
       "      <td>3807.312500</td>\n",
       "      <td>982.917200</td>\n",
       "      <td>477.822800</td>\n",
       "      <td>8159.851000</td>\n",
       "      <td>656.658500</td>\n",
       "      <td>2078.181600</td>\n",
       "    </tr>\n",
       "    <tr>\n",
       "      <th>max</th>\n",
       "      <td>28953.146200</td>\n",
       "      <td>2110.397500</td>\n",
       "      <td>2613.102800</td>\n",
       "      <td>1248.379800</td>\n",
       "      <td>1763.403100</td>\n",
       "      <td>2065.75220</td>\n",
       "      <td>4981.760300</td>\n",
       "      <td>1329.167700</td>\n",
       "      <td>657.839700</td>\n",
       "      <td>10093.441000</td>\n",
       "      <td>715.088300</td>\n",
       "      <td>2504.783200</td>\n",
       "    </tr>\n",
       "  </tbody>\n",
       "</table>\n",
       "</div>"
      ],
      "text/plain": [
       "               load       capitl       centrl       dunwod       genese  \\\n",
       "count   9085.000000  9085.000000  9085.000000  9085.000000  9085.000000   \n",
       "mean   21021.604058  1502.773982  1856.490034   816.444930  1196.707896   \n",
       "std     3312.899419   243.597631   263.337702   157.282512   201.902070   \n",
       "min    14577.855200  1025.539600  1315.306200   502.981300   788.413000   \n",
       "25%    18273.381800  1311.817600  1643.866500   688.481600  1035.427700   \n",
       "50%    21031.995800  1479.941700  1844.262800   810.269100  1183.202000   \n",
       "75%    23568.251000  1688.019500  2053.110400   929.398200  1330.184300   \n",
       "max    28953.146200  2110.397500  2613.102800  1248.379800  1763.403100   \n",
       "\n",
       "           hud_vl       longil       mhk_vl       millwd           nyc  \\\n",
       "count  9085.00000  9085.000000  9085.000000  9085.000000   9085.000000   \n",
       "mean   1316.08897  3264.677704   877.551474   408.540012   7289.992620   \n",
       "std     271.16640   715.950790   140.985300    94.458545   1104.287393   \n",
       "min     826.18390  1908.178100   579.597600   210.178800   4860.989300   \n",
       "25%    1091.53880  2649.437300   761.572800   330.311000   6398.255000   \n",
       "50%    1283.54300  3222.223100   865.667100   399.530800   7247.556600   \n",
       "75%    1514.56870  3807.312500   982.917200   477.822800   8159.851000   \n",
       "max    2065.75220  4981.760300  1329.167700   657.839700  10093.441000   \n",
       "\n",
       "             north         west  \n",
       "count  9085.000000  9085.000000  \n",
       "mean    631.935421  1860.401015  \n",
       "std      32.727648   264.249549  \n",
       "min     379.225200  1214.185000  \n",
       "25%     609.089900  1635.597400  \n",
       "50%     632.415900  1857.479100  \n",
       "75%     656.658500  2078.181600  \n",
       "max     715.088300  2504.783200  "
      ]
     },
     "execution_count": 27,
     "metadata": {},
     "output_type": "execute_result"
    }
   ],
   "source": [
    "df.describe()"
   ]
  },
  {
   "cell_type": "markdown",
   "metadata": {},
   "source": [
    "## Timeseries Preprocessing steps"
   ]
  },
  {
   "cell_type": "markdown",
   "metadata": {},
   "source": [
    " Coverting datetime object to Index:\n",
    "   1. Easily slice df based on date and time2\n",
    "   2. Joining two databases becomes straightforward."
   ]
  },
  {
   "cell_type": "code",
   "execution_count": 20,
   "metadata": {},
   "outputs": [],
   "source": [
    "df.set_index('time_local',inplace=True)"
   ]
  },
  {
   "cell_type": "code",
   "execution_count": 31,
   "metadata": {},
   "outputs": [
    {
     "data": {
      "text/plain": [
       "<AxesSubplot:title={'center':'xyz'}, xlabel='time_local'>"
      ]
     },
     "execution_count": 31,
     "metadata": {},
     "output_type": "execute_result"
    },
    {
     "data": {
      "image/png": "[encoded data removed]",
      "text/plain": [
       "<Figure size 432x288 with 1 Axes>"
      ]
     },
     "metadata": {
      "needs_background": "light"
     },
     "output_type": "display_data"
    }
   ],
   "source": [
    "df['load'].plot(title = \"xyz\")"
   ]
  },
  {
   "cell_type": "code",
   "execution_count": null,
   "metadata": {},
   "outputs": [],
   "source": []
  }
 ],
 "metadata": {
  "kernelspec": {
   "display_name": "MLAI",
   "language": "python",
   "name": "python3"
  },
  "language_info": {
   "codemirror_mode": {
    "name": "ipython",
    "version": 3
   },
   "file_extension": ".py",
   "mimetype": "text/x-python",
   "name": "python",
   "nbconvert_exporter": "python",
   "pygments_lexer": "ipython3",
   "version": "3.9.10"
  }
 },
 "nbformat": 4,
 "nbformat_minor": 2
}
